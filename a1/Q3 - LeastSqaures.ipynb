{
 "cells": [
  {
   "cell_type": "code",
   "execution_count": 1,
   "metadata": {},
   "outputs": [
    {
     "name": "stdout",
     "output_type": "stream",
     "text": [
      "Parameter containing:\n",
      "tensor([0.5488, 0.1811, 0.4554, 0.6559, 0.0899, 0.7591, 0.2766, 0.7423, 0.8486,\n",
      "        0.8185, 0.3526, 0.0087, 0.4458, 0.2832, 0.8221, 0.3131, 0.6544, 0.9613,\n",
      "        0.3538, 0.3435], requires_grad=True)\n"
     ]
    }
   ],
   "source": [
    "#816008940  Raeanne Ramharrack\n",
    "#816000026  Tevin Achong\n",
    "\n",
    "import torch as th\n",
    "import torch.optim as optim\n",
    "import torch.nn as nn\n",
    "import numpy as np\n",
    "\n",
    "exp_array = np.load('E.npy')\n",
    "results_array = np.load('d.npy')\n",
    "\n",
    "#Convert arrays into tensors (using pytorch) \n",
    "exp_tensor = th.from_numpy(exp_array) * 1.0\n",
    "results_tensor = th.from_numpy(results_array)\n",
    "\n",
    "def loss_function(exp_tensor, x, results_tensor):\n",
    "    return th.norm((exp_tensor@x)-results_tensor)**2 \n",
    "\n",
    "class LeastSquaresContainer(nn.Module):\n",
    "    def __init__(self, row):\n",
    "        super().__init__()\n",
    "        x = th.tensor(np.random.random((row)), dtype=th.float32)\n",
    "        self.x = nn.Parameter(x)\n",
    "    \n",
    "    def loss(self, exp_tensor, results_tensor):\n",
    "        return loss_function(exp_tensor, self.x, results_tensor)\n",
    "\n",
    "\n",
    "def least_squares_approx(exp_tensor, results_tensor, lr=0.0000000000001, epochs=10000):\n",
    "    m, n = exp_tensor.shape\n",
    "    estimator = LeastSquaresContainer(n)\n",
    "    optimizer = optim.SGD(estimator.parameters(), lr)\n",
    "    for i in range(epochs):\n",
    "        optimizer.zero_grad() \n",
    "        loss = estimator.loss(exp_tensor,results_tensor) \n",
    "        loss.backward() \n",
    "        optimizer.step() \n",
    "    return estimator\n",
    "\n",
    "estimator = least_squares_approx(exp_tensor, results_tensor)\n",
    "print(estimator.x)\n"
   ]
  },
  {
   "cell_type": "code",
   "execution_count": null,
   "metadata": {},
   "outputs": [],
   "source": []
  }
 ],
 "metadata": {
  "kernelspec": {
   "display_name": "Python 3",
   "language": "python",
   "name": "python3"
  },
  "language_info": {
   "codemirror_mode": {
    "name": "ipython",
    "version": 3
   },
   "file_extension": ".py",
   "mimetype": "text/x-python",
   "name": "python",
   "nbconvert_exporter": "python",
   "pygments_lexer": "ipython3",
   "version": "3.7.4"
  }
 },
 "nbformat": 4,
 "nbformat_minor": 2
}
