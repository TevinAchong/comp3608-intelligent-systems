{
 "cells": [
  {
   "cell_type": "markdown",
   "metadata": {},
   "source": [
    "# Documented Process:\n",
    "    >Establish formula for distribution\n",
    "    >Derive the Nagtive Log Likelihood\n",
    "    >Define a loss function to calculate the NLL\n",
    "    >Define Model\n",
    "    >Use Gradient Descent\n",
    "    >Load the dataset in \n",
    "    >Progress with iterations\n",
    "    >Generate Lamda value\n",
    "    >Generate K value\n",
    "    >Plot graph for reference"
   ]
  },
  {
   "cell_type": "code",
   "execution_count": 1,
   "metadata": {},
   "outputs": [
    {
     "name": "stdout",
     "output_type": "stream",
     "text": [
      "Populating the interactive namespace from numpy and matplotlib\n"
     ]
    }
   ],
   "source": [
    "%pylab inline\n",
    "import numpy as np\n",
    "import torch as th\n",
    "import torch.nn as nn\n",
    "import torch.optim as optim"
   ]
  },
  {
   "cell_type": "code",
   "execution_count": 2,
   "metadata": {},
   "outputs": [],
   "source": [
    "##########LOSS FUNCTION##########\n",
    "#################################\n",
    "\n",
    "def loss_function(dataset, lam, k, eps=0.001):\n",
    "    \n",
    "    A = th.log(k) - th.log(lam)\n",
    "    B = (k - 1)* (th.log(dataset) - th.log(lam))\n",
    "    C = -((dataset/lam )**k)                      \n",
    "    \n",
    "    ans = th.mean( A + B + C) #scales down value\n",
    "    return -ans               #negative log likelihood                  \n",
    "\n",
    "#########THE MODEL CLASS#########\n",
    "#################################\n",
    "\n",
    "class Model(nn.Module):\n",
    "    def __init__(self):\n",
    "        super().__init__()\n",
    "        lam_prime = np.random.normal()                      #generate random number\n",
    "        self.lam_prime = nn.Parameter(th.tensor(lam_prime)) #assign\n",
    "        k_prime = np.random.normal() \n",
    "        self.k_prime = nn.Parameter(th.tensor(k_prime))\n",
    "        \n",
    "    def lam(self):\n",
    "        return th.abs(self.lam_prime)                   #returns the absolute value\n",
    "    \n",
    "    def k(self):\n",
    "        return th.abs(self.k_prime) \n",
    "    \n",
    "    \n",
    "    def loss(self, dataset):\n",
    "        return loss_function(dataset, self.lam(), self.k())"
   ]
  },
  {
   "cell_type": "code",
   "execution_count": 3,
   "metadata": {},
   "outputs": [
    {
     "name": "stdout",
     "output_type": "stream",
     "text": [
      "~Mav\n"
     ]
    }
   ],
   "source": [
    "#####INSTANTIATING THE MODEL#####\n",
    "#################################\n",
    "\n",
    "model = Model()                                         #instantiate model class\n",
    "lr = 0.1                                                #learning rate\n",
    "optimiser = optim.SGD(model.parameters(), lr=lr) \n",
    "num_iters = 1000                                        #number of iterations\n",
    "loss_curve = []                                         #used to keep track of all the losses\n",
    "print(\"~Mav\")"
   ]
  },
  {
   "cell_type": "code",
   "execution_count": 4,
   "metadata": {},
   "outputs": [],
   "source": [
    "#######LOADING IN THE DATA#######\n",
    "#################################\n",
    "\n",
    "fp = open('data.npy', 'rb')\n",
    "dataset = np.load(fp)\n",
    "fp.close()\n",
    "dataset = th.tensor(dataset, dtype=th.float32)"
   ]
  },
  {
   "cell_type": "code",
   "execution_count": 5,
   "metadata": {},
   "outputs": [],
   "source": [
    "###APPENDING TO THE LOSS CURVE###\n",
    "#################################\n",
    "\n",
    "for i in range(num_iters):\n",
    "    optimiser.zero_grad()\n",
    "    loss_value = model.loss(dataset)\n",
    "    loss_curve.append(loss_value.data.item())\n",
    "    loss_value.backward()\n",
    "    optimiser.step()"
   ]
  },
  {
   "cell_type": "code",
   "execution_count": 6,
   "metadata": {},
   "outputs": [
    {
     "name": "stdout",
     "output_type": "stream",
     "text": [
      "1.2069225\n"
     ]
    }
   ],
   "source": [
    "############# LAMDA #############\n",
    "#################################\n",
    "\n",
    "lam = model.lam().detach().numpy()\n",
    "print(lam)"
   ]
  },
  {
   "cell_type": "code",
   "execution_count": 7,
   "metadata": {},
   "outputs": [
    {
     "name": "stdout",
     "output_type": "stream",
     "text": [
      "0.95874995\n"
     ]
    }
   ],
   "source": [
    "############### K ###############\n",
    "#################################\n",
    "\n",
    "k = model.k().detach().numpy()\n",
    "print(k)"
   ]
  },
  {
   "cell_type": "code",
   "execution_count": 8,
   "metadata": {},
   "outputs": [
    {
     "data": {
      "text/plain": [
       "[<matplotlib.lines.Line2D at 0x2286f5ecc88>]"
      ]
     },
     "execution_count": 8,
     "metadata": {},
     "output_type": "execute_result"
    },
    {
     "data": {
      "image/png": "[encoded data removed]",
      "text/plain": [
       "<Figure size 432x288 with 1 Axes>"
      ]
     },
     "metadata": {
      "needs_background": "light"
     },
     "output_type": "display_data"
    }
   ],
   "source": [
    "########PLOTTING THE DATA########\n",
    "#################################\n",
    "\n",
    "histogram = plt.hist(dataset.numpy(), bins=int(np.max(dataset.numpy())))\n",
    "arr = []\n",
    "for i in range(100): #for 100 itareations\n",
    "    prob = (lam ** i) * np.exp(-lam)\n",
    "    prob = prob / np.math.factorial(i)\n",
    "    arr.append(prob * len(dataset))\n",
    "plt.plot(list(range(100)), arr)"
   ]
  }
 ],
 "metadata": {
  "kernelspec": {
   "display_name": "Python 3",
   "language": "python",
   "name": "python3"
  },
  "language_info": {
   "codemirror_mode": {
    "name": "ipython",
    "version": 3
   },
   "file_extension": ".py",
   "mimetype": "text/x-python",
   "name": "python",
   "nbconvert_exporter": "python",
   "pygments_lexer": "ipython3",
   "version": "3.7.4"
  }
 },
 "nbformat": 4,
 "nbformat_minor": 2
}
